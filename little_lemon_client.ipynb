{
 "cells": [
  {
   "cell_type": "code",
   "execution_count": 20,
   "metadata": {},
   "outputs": [],
   "source": [
    "import mysql.connector as connector\n"
   ]
  },
  {
   "cell_type": "code",
   "execution_count": 25,
   "metadata": {},
   "outputs": [
    {
     "name": "stdout",
     "output_type": "stream",
     "text": [
      "2003 (HY000): Can't connect to MySQL server on '127.0.0.1:3306' (111)\n"
     ]
    }
   ],
   "source": [
    "\n",
    "\n",
    "try:\n",
    "    connection = connector.connect(user=\"user\", password=\"Littlelemon.db\", database=\"little_lemon_db\")\n",
    "    print(\"[+] Connection Established\")\n",
    "except connector.Error as err:\n",
    "    if err.errno == connector.errorcode.ER_ACCESS_DENIED_ERROR:\n",
    "        print(\"[-] Invalid Credentials\")\n",
    "    elif err.errno == connector.errorcode.ER_BAD_DB_ERROR:\n",
    "        print(\"[-] Database does not exist\")\n",
    "    else:\n",
    "        print(err)"
   ]
  },
  {
   "cell_type": "code",
   "execution_count": null,
   "metadata": {},
   "outputs": [],
   "source": []
  }
 ],
 "metadata": {
  "kernelspec": {
   "display_name": "Data-Engineer",
   "language": "python",
   "name": "python3"
  },
  "language_info": {
   "codemirror_mode": {
    "name": "ipython",
    "version": 3
   },
   "file_extension": ".py",
   "mimetype": "text/x-python",
   "name": "python",
   "nbconvert_exporter": "python",
   "pygments_lexer": "ipython3",
   "version": "3.10.0"
  },
  "orig_nbformat": 4
 },
 "nbformat": 4,
 "nbformat_minor": 2
}
